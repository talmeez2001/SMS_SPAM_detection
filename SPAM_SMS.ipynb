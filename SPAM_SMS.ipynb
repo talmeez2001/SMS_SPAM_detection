{
 "cells": [
  {
   "cell_type": "code",
   "execution_count": 22,
   "id": "0b9186e5",
   "metadata": {},
   "outputs": [],
   "source": [
    "# Author: Aafra Md. Hanif Shaikh\n",
    "# Task Name: SPAM SMS DETECTION\n",
    "# 4th task in the list of tasks\n",
    "# Task Category: Machine Learning\n",
    "# Date Of Submission: \n",
    "# Linkedin Profile: \n",
    "# Github Repository: "
   ]
  },
  {
   "cell_type": "code",
   "execution_count": 23,
   "id": "72a88f28",
   "metadata": {},
   "outputs": [],
   "source": [
    "from sklearn.feature_extraction.text import TfidfVectorizer\n",
    "from sklearn.model_selection import train_test_split\n",
    "from sklearn.naive_bayes import MultinomialNB\n",
    "from sklearn.metrics import accuracy_score, classification_report\n",
    "from tqdm import tqdm\n",
    "import time"
   ]
  },
  {
   "cell_type": "code",
   "execution_count": 24,
   "id": "b0794cc7",
   "metadata": {},
   "outputs": [],
   "source": [
    "data=pd.read_csv('spam.csv',encoding='latin-1')"
   ]
  },
  {
   "cell_type": "code",
   "execution_count": 25,
   "id": "84604da6",
   "metadata": {},
   "outputs": [],
   "source": [
    "data.drop_duplicates(inplace=True)\n",
    "data['label']=data['v1'].map({'ham':'ham','spam':'spam'})\n",
    "x=data['v2']\n",
    "y=data['label']"
   ]
  },
  {
   "cell_type": "code",
   "execution_count": 26,
   "id": "641c907f",
   "metadata": {},
   "outputs": [
    {
     "name": "stderr",
     "output_type": "stream",
     "text": [
      "100%|██████████| 1034/1034 [00:01<00:00, 629.83it/s]\n"
     ]
    }
   ],
   "source": [
    "# Split your data into training and test sets\n",
    "x_train, x_test, y_train, y_test = train_test_split(x, y, test_size=0.2, random_state=42)\n",
    "\n",
    "# Create and fit a single TfidfVectorizer on the training data\n",
    "tfidf_vectorizer = TfidfVectorizer()\n",
    "x_train_tfidf = tfidf_vectorizer.fit_transform(x_train)\n",
    "\n",
    "# Create and train the Multinomial Naive Bayes classifier\n",
    "classifier = MultinomialNB()\n",
    "classifier.fit(x_train_tfidf, y_train)\n",
    "\n",
    "# Initialize the progress bar for predictions\n",
    "progress_bar = tqdm(total=len(x_test), position=0, leave=True)\n",
    "\n",
    "y_pred = []  # To store the predicted labels\n",
    "\n",
    "for text in x_test:\n",
    "    # Transform each text into TF-IDF vector\n",
    "    text_tfidf = tfidf_vectorizer.transform([text])\n",
    "    \n",
    "    # Predict the label for the text\n",
    "    label = classifier.predict(text_tfidf)\n",
    "    y_pred.append(label[0])\n",
    "    \n",
    "    # Update the progress bar\n",
    "    progress_bar.update(1)\n",
    "\n",
    "progress_bar.close()\n"
   ]
  },
  {
   "cell_type": "code",
   "execution_count": 27,
   "id": "0c1a55c0",
   "metadata": {},
   "outputs": [
    {
     "name": "stdout",
     "output_type": "stream",
     "text": [
      "Accuracy:  0.96\n",
      "classification Report \n",
      "              precision    recall  f1-score   support\n",
      "\n",
      "         ham       0.95      1.00      0.97       889\n",
      "        spam       1.00      0.68      0.81       145\n",
      "\n",
      "    accuracy                           0.96      1034\n",
      "   macro avg       0.98      0.84      0.89      1034\n",
      "weighted avg       0.96      0.96      0.95      1034\n",
      "\n"
     ]
    }
   ],
   "source": [
    "\n",
    "\n",
    "print(f\"Accuracy: {accuracy: .2f}\")\n",
    "print(\"classification Report \")\n",
    "print(report)"
   ]
  },
  {
   "cell_type": "code",
   "execution_count": null,
   "id": "59b60bea",
   "metadata": {},
   "outputs": [],
   "source": []
  }
 ],
 "metadata": {
  "kernelspec": {
   "display_name": "Python 3 (ipykernel)",
   "language": "python",
   "name": "python3"
  },
  "language_info": {
   "codemirror_mode": {
    "name": "ipython",
    "version": 3
   },
   "file_extension": ".py",
   "mimetype": "text/x-python",
   "name": "python",
   "nbconvert_exporter": "python",
   "pygments_lexer": "ipython3",
   "version": "3.11.4"
  }
 },
 "nbformat": 4,
 "nbformat_minor": 5
}
